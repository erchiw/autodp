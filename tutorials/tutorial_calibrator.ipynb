{
 "cells": [
  {
   "cell_type": "code",
   "execution_count": 6,
   "metadata": {},
   "outputs": [],
   "source": [
    "import sys\n",
    "import os\n",
    "from autodp.calibrator_zoo import eps_delta_calibrator,generalized_eps_delta_calibrator, ana_gaussian_calibrator\n",
    "from autodp import rdp_bank\n",
    "from autodp.mechanism_zoo import ExactGaussianMechanism, PureDP_Mechanism,SubsampleGaussianMechanism, GaussianMechanism, ComposedGaussianMechanism, LaplaceMechanism\n",
    "from autodp.transformer_zoo import Composition, AmplificationBySampling\n",
    "%matplotlib inline \n",
    "\n"
   ]
  },
  {
   "cell_type": "markdown",
   "metadata": {},
   "source": [
    "## Example 1: calibrating noise to privacy budgets.\n",
    "### Single parameter, composition is not applicable"
   ]
  },
  {
   "cell_type": "code",
   "execution_count": 2,
   "metadata": {},
   "outputs": [
    {
     "name": "stdout",
     "output_type": "stream",
     "text": [
      "GM {'sigma': 36.30468875627065} 0.10000000492560457\n",
      "Ana_GM {'sigma': 36.304691899114694} 0.09999999565548193\n"
     ]
    }
   ],
   "source": [
    "calibrate = eps_delta_calibrator()\n",
    "ana_calibrate = ana_gaussian_calibrator()\n",
    "eps = 0.1\n",
    "delta = 1e-6\n",
    "\n",
    "mech1 = calibrate(ExactGaussianMechanism,eps,delta,[0,100],name='GM')\n",
    "mech2 = ana_calibrate(ExactGaussianMechanism, eps, delta, name='Ana_GM')\n",
    "print(mech1.name, mech1.params, mech1.get_approxDP(delta))\n",
    "print(mech2.name, mech2.params, mech2.get_approxDP(delta))\n",
    "\n",
    "# privacy budget is (0.1, 1e-6), calibrate noise sigma\n",
    "# mech1 is for Gaussian mechanism and mech2 is for analytical Gaussian mechanism\n"
   ]
  },
  {
   "cell_type": "markdown",
   "source": [
    "## Example 2: Calibration with Gaussian mechanism under composition"
   ],
   "metadata": {
    "collapsed": false
   }
  },
  {
   "cell_type": "code",
   "execution_count": 3,
   "metadata": {
    "pycharm": {
     "name": "#%%\n"
    }
   },
   "outputs": [
    {
     "name": "stdout",
     "output_type": "stream",
     "text": [
      "Composed_Gaussian {'sigma': 176.48801940301632, 'coeff': 20} 0.09999999894380397\n"
     ]
    },
    {
     "name": "stderr",
     "output_type": "stream",
     "text": [
      "/usr/local/lib/python3.8/site-packages/scipy/optimize/optimize.py:2522: RuntimeWarning: invalid value encountered in double_scalars\n",
      "  w = xb - ((xb - xc) * tmp2 - (xb - xa) * tmp1) / denom\n"
     ]
    }
   ],
   "source": [
    "#We now have multiple parameters --- params['coeff'] and params['sigma'].\n",
    "\n",
    "\n",
    "coeff = 20\n",
    "general_calibrate = generalized_eps_delta_calibrator()\n",
    "params = {}\n",
    "params['sigma'] = None\n",
    "params['coeff'] = 20\n",
    "\n",
    "mech3 = general_calibrate(ComposedGaussianMechanism, eps, delta, [0,1000],params=params,para_name='sigma', name='Composed_Gaussian')\n",
    "print(mech3.name, mech3.params, mech3.get_approxDP(delta))\n",
    "#coeff is the number of composition. The calibrator calibrates the noise with other parameters (coeff) fixed.\n",
    "#[0,1000] is the range of sigma.\n"
   ]
  },
  {
   "cell_type": "markdown",
   "source": [
    "## Example 3:  calibration with SubsampledGaussian mechanism"
   ],
   "metadata": {
    "collapsed": false
   }
  },
  {
   "cell_type": "code",
   "execution_count": 4,
   "metadata": {},
   "outputs": [
    {
     "name": "stdout",
     "output_type": "stream",
     "text": [
      "Subsampled_Gaussian {'prob': 0.01, 'sigma': 3.205947497273216, 'coeff': 20} 0.09999976859421401\n"
     ]
    }
   ],
   "source": [
    "# We now have three parameters --- params['coeff'], params['prob'] and params['sigma'].\n",
    "# The coeff and prob are fixed and the calibrator optimize over sigma. We use para_name to denote the parameter that we want to optimize over.\n",
    "\n",
    "params['prob'] = 0.01\n",
    "mech4 = general_calibrate(SubsampleGaussianMechanism, eps, delta, [0,1000],params=params,para_name='sigma', name='Subsampled_Gaussian')\n",
    "print(mech4.name, mech4.params, mech4.get_approxDP(delta))\n"
   ]
  },
  {
   "cell_type": "markdown",
   "source": [
    "## Example 4: Calibration with single parameter for Laplace mechanism"
   ],
   "metadata": {
    "collapsed": false
   }
  },
  {
   "cell_type": "code",
   "execution_count": 8,
   "metadata": {
    "pycharm": {
     "name": "#%%\n"
    }
   },
   "outputs": [
    {
     "name": "stdout",
     "output_type": "stream",
     "text": [
      "Laplace {'b': 9.99979887663798} 0.10000001127407157\n"
     ]
    }
   ],
   "source": [
    "calibrate = generalized_eps_delta_calibrator()\n",
    "\n",
    "eps = 0.1\n",
    "delta = 1e-6\n",
    "mech = calibrate(LaplaceMechanism,eps,delta,[0,100],name='Laplace')\n",
    "print(mech.name, mech.params, mech.get_approxDP(delta))\n",
    "#[0, 100] is the range of laplace parameter b.\n",
    "# to calibrate the noise for the composed Laplace mechanism, we can define a new composed Lapalce mechanism in mechanism.zoo (similar with Example 2)"
   ]
  }
 ],
 "metadata": {
  "kernelspec": {
   "display_name": "Python 3",
   "language": "python",
   "name": "python3"
  },
  "language_info": {
   "codemirror_mode": {
    "name": "ipython",
    "version": 3
   },
   "file_extension": ".py",
   "mimetype": "text/x-python",
   "name": "python",
   "nbconvert_exporter": "python",
   "pygments_lexer": "ipython3",
   "version": "3.8.5"
  }
 },
 "nbformat": 4,
 "nbformat_minor": 4
}