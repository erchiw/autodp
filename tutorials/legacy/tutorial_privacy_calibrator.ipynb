{
 "cells": [
  {
   "cell_type": "markdown",
   "metadata": {},
   "source": [
    "# This notebook teaches you how to calibrate noise to privacy budgets using `autodp.privacy_calibrator`"
   ]
  },
  {
   "cell_type": "markdown",
   "metadata": {},
   "source": [
    "The hallmark of differential private algorithm design is to be able to **calibirate noise to privacy** requirements. \n",
    "`autodp.privacy_calibrator` provides a suite of modern tools that allow us to achieve this goal. \n",
    "\n",
    "We give a few examples below how to use these tools."
   ]
  },
  {
   "cell_type": "markdown",
   "metadata": {},
   "source": [
    "### 1. The three ways to calibrate Gaussian mechanism.\n",
    "Suppose we want to run Gaussian mechanism, given a prescribed privacy budget: $\\epsilon,\\delta$, how do we know how much noise to add?"
   ]
  },
  {
   "cell_type": "code",
   "execution_count": 1,
   "metadata": {},
   "outputs": [],
   "source": [
    "from autodp import privacy_calibrator"
   ]
  },
  {
   "cell_type": "markdown",
   "metadata": {},
   "source": [
    "### Classic calibration\n",
    "Let's first try the simplest approach --- the classical Gaussian mechanism --- which simply sets\n",
    "$$\\sigma = \\frac{\\sqrt{2\\log(1.25/\\delta)}}{\\epsilon}$$"
   ]
  },
  {
   "cell_type": "code",
   "execution_count": 2,
   "metadata": {},
   "outputs": [
    {
     "name": "stdout",
     "output_type": "stream",
     "text": [
      "eps,delta = (0.1,1e-08) ==> Noise level sigma= 61.063613216491824\n"
     ]
    }
   ],
   "source": [
    "eps = 0.1\n",
    "delta = 1e-8\n",
    "params = privacy_calibrator.classical_gaussian_mech(eps,delta)\n",
    "# Assume the L2 sensitivity is 1\n",
    "print(f'eps,delta = ({eps},{delta}) ==> Noise level sigma=',params['sigma'])"
   ]
  },
  {
   "cell_type": "markdown",
   "metadata": {},
   "source": [
    "### RDP-based calibration\n",
    "The classical Guassian mechanism however should only be used for $0<\\epsilon \\leq 1$. The RDP-based Gaussian mechanism solves this problem very easily."
   ]
  },
  {
   "cell_type": "code",
   "execution_count": 3,
   "metadata": {},
   "outputs": [
    {
     "name": "stdout",
     "output_type": "stream",
     "text": [
      "eps,delta = (2,1e-08) ==> Noise level sigma= 3.0348542587703093\n"
     ]
    }
   ],
   "source": [
    "eps = 2\n",
    "delta = 1e-8\n",
    "params = privacy_calibrator.gaussian_mech(eps,delta)\n",
    "print(f'eps,delta = ({eps},{delta}) ==> Noise level sigma=',params['sigma'])"
   ]
  },
  {
   "cell_type": "markdown",
   "metadata": {},
   "source": [
    "**Homework**: try RDP-based calibration for $\\epsilon <1$ and compare with the classical calibration. "
   ]
  },
  {
   "cell_type": "markdown",
   "metadata": {},
   "source": [
    "### Analytical calibration.\n",
    "\n",
    "This is the optimal calibration that dominates the classical or the RDP-based approaches.\n",
    "\n",
    "See: Balle and Wang (ICML 2018) https://arxiv.org/pdf/1805.06530.pdf"
   ]
  },
  {
   "cell_type": "code",
   "execution_count": 4,
   "metadata": {},
   "outputs": [
    {
     "name": "stdout",
     "output_type": "stream",
     "text": [
      "eps,delta = (0.1,1e-08) ==> Noise level sigma= 45.93737105307458\n",
      "eps,delta = (2,1e-08) ==> Noise level sigma= 2.6529219041434144\n"
     ]
    }
   ],
   "source": [
    "eps = 0.1\n",
    "delta = 1e-8\n",
    "params = privacy_calibrator.ana_gaussian_mech(eps,delta)\n",
    "# Assume the L2 sensitivity is 1\n",
    "print(f'eps,delta = ({eps},{delta}) ==> Noise level sigma=',params['sigma'])\n",
    "\n",
    "# Note that the classical Gaussian mechanism does not work with eps > 1.\n",
    "# What we do in this case is to use the RDP approach to calibrate the noise\n",
    "eps = 2\n",
    "delta = 1e-8\n",
    "params = privacy_calibrator.ana_gaussian_mech(eps,delta)\n",
    "print(f'eps,delta = ({eps},{delta}) ==> Noise level sigma=',params['sigma'])"
   ]
  },
  {
   "cell_type": "markdown",
   "metadata": {},
   "source": [
    "Note that the analytical Gaussian mechanism always improves over the classical Gaussian mechanism, or the RDP-based calibration."
   ]
  },
  {
   "cell_type": "markdown",
   "metadata": {},
   "source": [
    "### 2. $(\\epsilon,\\delta)$-DP calibration for pure DP mechanisms.\n",
    "Usually, Laplace mechanism and randomized responses are $\\epsilon$-DP algorithms,  but what if we want to calibrate them for $(\\epsilon,\\delta)$-DP?"
   ]
  },
  {
   "cell_type": "code",
   "execution_count": 5,
   "metadata": {},
   "outputs": [
    {
     "name": "stdout",
     "output_type": "stream",
     "text": [
      "eps,delta = (1,0) ==> Noise level b= 1.0\n",
      "eps,delta = (1,1e-06) ==> Noise level b= 1.0\n",
      "eps,delta = (1,0.5) ==> Noise level b= 0.9999996965588319\n"
     ]
    }
   ],
   "source": [
    "eps = 1\n",
    "delta = 0\n",
    "params = privacy_calibrator.laplace_mech(eps,delta)\n",
    "\n",
    "# Assume the L1 sensitivity is 1\n",
    "print(f'eps,delta = ({eps},{delta}) ==> Noise level b=',params['b'])\n",
    "\n",
    "eps = 1\n",
    "delta = 1e-6\n",
    "params = privacy_calibrator.laplace_mech(eps,delta)\n",
    "print(f'eps,delta = ({eps},{delta}) ==> Noise level b=',params['b'])\n",
    "\n",
    "eps = 1\n",
    "delta = 0.5\n",
    "params = privacy_calibrator.laplace_mech(eps,delta)\n",
    "print(f'eps,delta = ({eps},{delta}) ==> Noise level b=',params['b'])\n"
   ]
  },
  {
   "cell_type": "markdown",
   "metadata": {},
   "source": [
    "Note that the noise levels are identical between $\\delta=0$ and $\\delta=1e-6$. As $\\delta$ gets larger, then we can then add a much smaller amount of noise. Clearly $\\delta=0.5$ is not regarded as an acceptable privacy level, but when we compose multiple such Laplace mechanisms, the ranges of $\\delta$ where we get a benefit become more reasonable."
   ]
  },
  {
   "cell_type": "markdown",
   "metadata": {},
   "source": [
    "### 3. Calibrating the noise for multiple rounds.\n",
    "\n",
    "Suppose I know that I will be running $k$-rounds of Laplace mechanism. How should I calibrate the noise level for each one?"
   ]
  },
  {
   "cell_type": "code",
   "execution_count": 6,
   "metadata": {},
   "outputs": [
    {
     "name": "stdout",
     "output_type": "stream",
     "text": [
      "eps,delta = (1,0) over 2 rounds ==> Noise level b= 2.0\n",
      "eps,delta = (1,1e-06) over 2 rounds ==> Noise level b= 2.0\n",
      "eps,delta = (1,0) over 4 rounds ==> Noise level b= 4.0\n",
      "eps,delta = (1,1e-06) over 4 rounds ==> Noise level b= 4.0\n",
      "eps,delta = (1,0) over 8 rounds ==> Noise level b= 8.0\n",
      "eps,delta = (1,1e-06) over 8 rounds ==> Noise level b= 8.0\n",
      "eps,delta = (1,0) over 16 rounds ==> Noise level b= 16.0\n",
      "eps,delta = (1,1e-06) over 16 rounds ==> Noise level b= 16.0\n",
      "eps,delta = (1,0) over 32 rounds ==> Noise level b= 32.0\n",
      "eps,delta = (1,1e-06) over 32 rounds ==> Noise level b= 27.254774615541674\n",
      "eps,delta = (1,0) over 64 rounds ==> Noise level b= 64.0\n",
      "eps,delta = (1,1e-06) over 64 rounds ==> Noise level b= 40.35369243930351\n",
      "eps,delta = (1,0) over 128 rounds ==> Noise level b= 128.0\n",
      "eps,delta = (1,1e-06) over 128 rounds ==> Noise level b= 58.24937511027943\n",
      "eps,delta = (1,0) over 256 rounds ==> Noise level b= 256.0\n",
      "eps,delta = (1,1e-06) over 256 rounds ==> Noise level b= 83.20083600159232\n",
      "eps,delta = (1,0) over 512 rounds ==> Noise level b= 512.0\n",
      "eps,delta = (1,1e-06) over 512 rounds ==> Noise level b= 118.2567657039947\n",
      "eps,delta = (1,0) over 1024 rounds ==> Noise level b= 1024.0\n",
      "eps,delta = (1,1e-06) over 1024 rounds ==> Noise level b= 167.67667915220687\n",
      "eps,delta = (1,0) over 2048 rounds ==> Noise level b= 2048.0\n",
      "eps,delta = (1,1e-06) over 2048 rounds ==> Noise level b= 237.45833853050405\n"
     ]
    }
   ],
   "source": [
    "\n",
    "# Let k be the number of rounds\n",
    "\n",
    "klist = [2,4,8,16,32,64,128,256,512,1024,2048]\n",
    "b_list=[]\n",
    "b_list0=[]\n",
    "\n",
    "delta = 1e-6\n",
    "eps = 1\n",
    "for k in klist:\n",
    "    params0 = privacy_calibrator.laplace_mech(eps,0,k=k)\n",
    "    params = privacy_calibrator.laplace_mech(eps,delta,k=k)\n",
    "    b_list0.append(params0['b'])\n",
    "    b_list.append(params['b'])\n",
    "    print(f'eps,delta = ({eps},0) over {k} rounds ==> Noise level b=',params0['b'])\n",
    "    print(f'eps,delta = ({eps},{delta}) over {k} rounds ==> Noise level b=',params['b'])\n"
   ]
  },
  {
   "cell_type": "markdown",
   "metadata": {},
   "source": [
    "### Let's plot it in (log-log plot) so we can see the scaling. "
   ]
  },
  {
   "cell_type": "code",
   "execution_count": 7,
   "metadata": {},
   "outputs": [
    {
     "data": {
      "text/plain": [
       "<matplotlib.figure.Figure at 0x110983f28>"
      ]
     },
     "metadata": {},
     "output_type": "display_data"
    }
   ],
   "source": [
    "import matplotlib.pyplot as plt\n",
    "#%matplotlib inline \n",
    "\n",
    "\n",
    "plt.figure(num=1, figsize=(8, 6), dpi=80, facecolor='w', edgecolor='k')\n",
    "plt.loglog(klist, b_list,'-o')\n",
    "plt.loglog(klist, b_list0,'--x')\n",
    "plt.grid()\n",
    "plt.xlabel(r'Number of rounds $k$')\n",
    "plt.ylabel(r'Calibrated Noise level $b$')\n",
    "plt.legend([r'$\\epsilon=1,\\delta=1e-6$',r'$\\epsilon=1,\\delta = 0$'])\n",
    "plt.show()"
   ]
  },
  {
   "cell_type": "markdown",
   "metadata": {},
   "source": [
    "As we can see, as number of rounds get large, having a non-zero delta allows us to get a way with adding only $O(\\sqrt{k})$ noise rather than $O(k)$ noise. This is what we call a strong composition. Calculating strong composition and calibrating the noise to privacy for a sequence of mechanisms using strong composition is a pain. However, everything becomes extremely easy with `autodp.privacy_calibrator`."
   ]
  },
  {
   "cell_type": "markdown",
   "metadata": {},
   "source": [
    "### 4. Calibrating the noise of subsampled mechanisms\n",
    "Subsampling a dataset before applying differentially private mechanisms has the known effect of amplifying privacy. Let $\\gamma$ be the proportion of the data points that we randomly select in the subsampling step, before applying Gaussian mechanism. Then the question becomes how can we calibrate $b$ given $\\epsilon,\\delta,\\gamma$. \n",
    "\n",
    "Here is how you can do it with `autodp.privacy_calibrator`.\n"
   ]
  },
  {
   "cell_type": "code",
   "execution_count": 8,
   "metadata": {},
   "outputs": [
    {
     "name": "stdout",
     "output_type": "stream",
     "text": [
      "(5.152297938244442, 9.999999999999999e-05)\n",
      "Gaussian: eps,delta,gamma = (1,1e-06,0.01) ==> Noise level sigma= 0.8330131727674832\n",
      "Laplace: eps,delta,gamma = (1,1e-06,0.01) ==> Noise level b= 0.19408815483615705\n",
      "The corresponding variances of the two approaches are:  (0.6939109460041488, 0.07534042369540814)\n"
     ]
    }
   ],
   "source": [
    "# Specify the input\n",
    "eps = 1\n",
    "delta = 1e-6\n",
    "gamma = 0.01\n",
    "\n",
    "# First, apply subsampling lemma to calibrate the basic privacy needed\n",
    "eps0,delta0 = privacy_calibrator.subsample_epsdelta_inverse(eps,delta,gamma)\n",
    "# Then we can get the amount of noise needed from the base mechanism\n",
    "\n",
    "print((eps0,delta0))\n",
    "params = privacy_calibrator.gaussian_mech(eps0,delta0)\n",
    "params2 = privacy_calibrator.laplace_mech(eps0,delta0)\n",
    "\n",
    "print(f'Gaussian: eps,delta,gamma = ({eps},{delta},{gamma}) ==> Noise level sigma=',params['sigma'])\n",
    "print(f'Laplace: eps,delta,gamma = ({eps},{delta},{gamma}) ==> Noise level b=',params2['b'])\n",
    "print('The corresponding variances of the two approaches are: ',(params['sigma']**2, 2 * params2['b']**2))"
   ]
  },
  {
   "cell_type": "markdown",
   "metadata": {},
   "source": [
    "The above exposition is somewhat interesting, as adding Laplace noise produces nearly an order of magnitude smaller variance than adding Gaussian noise! \n"
   ]
  },
  {
   "cell_type": "markdown",
   "metadata": {},
   "source": [
    "### 5. Calibrating the noise for multiple rounds of subsampled mechanisms\n",
    "\n",
    "Sometimes, when we know that there is a fixed number of rounds that we want to apply our mechanisms, and we would like to calibrate the noise so we can achieve an overall prescribed privacy budgets. This is traditionally a challenging tasks because there are several internal parameters to optimize over.\n",
    "\n",
    "With `autodp`, we can simply call, e.g., `privacy_calibrator.gaussian_mech` with two additional clauses.\n",
    "\n",
    "This approach is most powerful when $k$ is large, in which case it is not even simpler but also often requires adding more than an order of  magnitude smaller amount of noise. \n",
    "\n",
    "See details in \n",
    "- Wang, Balle, Kasiviswanathan (2018): Subsampled Renyi Differential Privacy and Analytical Moment accountant.\n"
   ]
  },
  {
   "cell_type": "code",
   "execution_count": 9,
   "metadata": {},
   "outputs": [
    {
     "name": "stdout",
     "output_type": "stream",
     "text": [
      "eps,delta,gamma = (1.0,1e-06,0.001) ==> Noise level sigma= 1.2912729645090977\n"
     ]
    }
   ],
   "source": [
    "# Specify the input\n",
    "eps = 1.0\n",
    "delta = 1e-6\n",
    "gamma = 0.001\n",
    "\n",
    "# Using RDP\n",
    "params = privacy_calibrator.gaussian_mech(eps,delta,prob=gamma,k=10000)\n",
    "print(f'eps,delta,gamma = ({eps},{delta},{gamma}) ==> Noise level sigma=',params['sigma'])\n",
    "\n",
    "\n"
   ]
  },
  {
   "cell_type": "markdown",
   "metadata": {},
   "source": [
    "Let's check what kind of privacy guaratee the classical advanced composition will give us."
   ]
  },
  {
   "cell_type": "code",
   "execution_count": 10,
   "metadata": {},
   "outputs": [
    {
     "name": "stdout",
     "output_type": "stream",
     "text": [
      "The same mechanism with advanced composition only gives epsilon =  74.9998135868238\n"
     ]
    }
   ],
   "source": [
    "\n",
    "from autodp import rdp_bank, dp_bank, dp_acct\n",
    "import numpy as np\n",
    "k=10000\n",
    "def find_eps_classic(logdelta0):\n",
    "    acct = dp_acct.DP_acct()\n",
    "    func =  lambda x: rdp_bank.RDP_gaussian(params, x)\n",
    "    eps0 = dp_bank.get_eps_rdp(func, np.exp(logdelta0))\n",
    "    eps1,delta1 = privacy_calibrator.subsample_epsdelta(eps0,np.exp(logdelta0),gamma)\n",
    "    for i in range(k):\n",
    "        acct.update_DPlosses(eps1,delta1)\n",
    "\n",
    "    return acct.get_eps(delta)\n",
    "\n",
    "eps_alt = find_eps_classic(np.log(delta/11.0))\n",
    "\n",
    "# 11.0 is a very carefully chosen number. One can \n",
    "print(f'The same mechanism with advanced composition only gives epsilon = ',eps_alt)"
   ]
  }
 ],
 "metadata": {
  "kernelspec": {
   "display_name": "Python 3",
   "language": "python",
   "name": "python3"
  },
  "language_info": {
   "codemirror_mode": {
    "name": "ipython",
    "version": 3
   },
   "file_extension": ".py",
   "mimetype": "text/x-python",
   "name": "python",
   "nbconvert_exporter": "python",
   "pygments_lexer": "ipython3",
   "version": "3.7.0"
  }
 },
 "nbformat": 4,
 "nbformat_minor": 2
}
