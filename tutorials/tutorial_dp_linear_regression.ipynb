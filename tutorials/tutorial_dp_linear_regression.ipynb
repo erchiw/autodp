{
 "cells": [
  {
   "cell_type": "markdown",
   "metadata": {},
   "source": [
    "##  In this notebook, we will learn how to use autodp for DP linear regression"
   ]
  },
  {
   "cell_type": "markdown",
   "metadata": {},
   "source": [
    "## Recall that autodp is independent to how the algorithm is actually implemented\n",
    "\n",
    "You are responsible for correctly representing the randomized algorithm you actually implemented in autodp.\n",
    "\n",
    "In this notebook we will do:\n",
    "\n",
    "1. Describe a differentially private mechanism in autodp\n",
    "2. Calibrate the parameter of this DP mechanism to achieve a pre-defined budget.\n",
    "2. Implement the algorithm and compare with the non-private baseline on a real dataset.\n",
    "\n"
   ]
  },
  {
   "cell_type": "markdown",
   "metadata": {},
   "source": [
    "\n",
    "## We will consider two DP mechanisms: 1. SSP 2. AdaSSP\n",
    "\n",
    "SSP stands for sufficient statistics perturbation. It is a simple algorithm that applies Gaussian mechanism to release both sufficient statistics of the linear regression problem: $X^TX$ and $X^Ty$.  \n",
    "\n",
    "* The Gaussian mechanism for releasing $X^TX$ with a symmetric noise matrix known as `AnalyzeGauss`, which ensures that the noise on the upper triangular part of the matrix and that on the lower triangular part of the matrix are identical.  The global L2 sensitivity is $\\sup_{x\\in \\mathcal{X}}\\|x\\|^2$.\n",
    "\n",
    "* The mechanism for releasing $X^Ty$ is a standard Gaussian mechanism. The global sensitivity is $\\sup_{(x,y)\\in \\mathcal{X}\\times \\mathcal{Y}} |y|\\|x\\|$.\n",
    "\n",
    "These sensitivity are often ensured by a preprocessing of the data.\n",
    "\n",
    "The AdaSSP algorithm from https://arxiv.org/abs/1803.02596, is one of the baseline for private linear regression, which separately release the smallest eigenvalue $X^TX$ using a third Gaussian mechanism, so as to adaptively choose a regularization parameter $\\lambda$ and run Ridge regression instead of linear regression.\n",
    "\n",
    "* The release of $\\lambda_{\\min}(X^TX)$ is a standard Gaussian mechanism too and the global sensitivity is also $\\sup_{x\\in \\mathcal{X}}\\|x\\|^2$.\n",
    "\n"
   ]
  },
  {
   "cell_type": "markdown",
   "metadata": {},
   "source": [
    "## 1. Let's now represent them in autodp as a ```Mechanism```\n",
    "It is effectively specifying how these two algorithms work"
   ]
  },
  {
   "cell_type": "code",
   "execution_count": 1,
   "metadata": {},
   "outputs": [
    {
     "name": "stdout",
     "output_type": "stream",
     "text": [
      "SSP with {'sigma1': 2.0, 'sigma2': 3.0}  satisfies  (2.7606558305608853, 1e-06) -DP\n",
      "AdaSSP with {'sigma1': 2.0, 'sigma2': 3.0, 'sigma3': 5.0}  satisfies  (2.9260992027969888, 1e-06) -DP\n"
     ]
    }
   ],
   "source": [
    "from autodp.autodp_core import Mechanism\n",
    "from autodp.mechanism_zoo import ExactGaussianMechanism\n",
    "from autodp.transformer_zoo import ComposeGaussian\n",
    "\n",
    "# SSP and AdaSSP\n",
    "\n",
    "class SSP(Mechanism):\n",
    "    def __init__(self,sigma1,sigma2,name='SSP'):\n",
    "        Mechanism.__init__(self)\n",
    "        self.name = name\n",
    "        self.params={'sigma1':sigma1,'sigma2':sigma2}\n",
    "        gm1 = ExactGaussianMechanism(sigma1,name='Release_XTX')\n",
    "        gm2 = ExactGaussianMechanism(sigma2,name='Release_XTy') \n",
    " \n",
    "        # compose them with the transformation: ComposeGaussian.\n",
    "        compose = ComposeGaussian() \n",
    "        mech = compose([gm1, gm2 ], [1,1])\n",
    "        \n",
    "        # Set all representation to be that of SSP\n",
    "        self.set_all_representation(mech)\n",
    "\n",
    "        \n",
    "class AdaSSP(Mechanism):\n",
    "    def __init__(self,sigma1,sigma2,sigma3,name='AdaSSP'):\n",
    "        Mechanism.__init__(self)\n",
    "        self.name = name\n",
    "        self.params={'sigma1':sigma1,'sigma2':sigma2,'sigma3':sigma3}\n",
    "        gm1 = ExactGaussianMechanism(sigma1,name='Release_XTX')\n",
    "        gm2 = ExactGaussianMechanism(sigma2,name='Release_XTy') \n",
    "        gm3 = ExactGaussianMechanism(sigma3,name='Release_lambdamin') \n",
    " \n",
    "        # compose them with the transformation: ComposeGaussian.\n",
    "        compose = ComposeGaussian() \n",
    "        mech = compose([gm1, gm2, gm3 ], [1,1,1])\n",
    "        \n",
    "        # Set all representation to be that of SSP\n",
    "        self.set_all_representation(mech)\n",
    "\n",
    "        \n",
    "# With these class definitions, we can already do privacy loss computation, e.g.,\n",
    "\n",
    "sigma1 = 2.0\n",
    "sigma2 = 3.0\n",
    "sigma3 = 5.0\n",
    "        \n",
    "mech_ssp = SSP(sigma1,sigma2,'SSP') \n",
    "mech_adassp = AdaSSP(sigma1,sigma2,sigma3,'AdaSSP')\n",
    "\n",
    "delta = 1e-6\n",
    "print('SSP with',mech_ssp.params,' satisfies ',(mech_ssp.approxDP(delta),delta),'-DP')\n",
    "\n",
    "print('AdaSSP with',mech_adassp.params,' satisfies ',(mech_adassp.approxDP(delta),delta),'-DP')\n",
    "           "
   ]
  },
  {
   "cell_type": "markdown",
   "metadata": {},
   "source": [
    "## 2. Calibrating noise to the privacy budget\n",
    "\n",
    "Now let's use the calibrator to choose the noise level so we can get a list of pre-defined privacy budgets!\n",
    "\n",
    "We can use a ```calibrator``` from the ```calibrator_zoo``` for this task.  This helps us to choose $\\sigma_1,\\sigma_2,\\sigma_3$, according to a pre-defined $\\epsilon,\\delta$-parameters.\n"
   ]
  },
  {
   "cell_type": "code",
   "execution_count": 2,
   "metadata": {},
   "outputs": [
    {
     "name": "stdout",
     "output_type": "stream",
     "text": [
      "SSP with {'sigma1': 2.68069678051775, 'sigma2': 4.021045170776626}  satisfies  (2.0000016938234966, 1e-06) -DP\n",
      "AdaSSP with {'sigma1': 2.8252710354177744, 'sigma2': 4.2379065531266615, 'sigma3': 7.063177588544436}  satisfies  (1.9999991539970159, 1e-06) -DP\n"
     ]
    }
   ],
   "source": [
    "from autodp.calibrator_zoo import eps_delta_calibrator\n",
    "\n",
    "calibrate = eps_delta_calibrator()\n",
    "\n",
    "# We will keep sigma1 and sigma2 to have the same scale and optimize over a constant multipler to them\n",
    "# The ratio of sigma1 : sigma2 : sigma3 are set to be 2:3:5 (somewhat arbitrarily)\n",
    "\n",
    "class SSP_scale(SSP):\n",
    "    def __init__(self,scale,name='SSP'):\n",
    "        SSP.__init__(self,sigma1=scale*2.0,sigma2=scale*3.0,name=name)\n",
    "\n",
    "class AdaSSP_scale(AdaSSP):\n",
    "    def __init__(self,scale,name='AdaSSP'):\n",
    "        AdaSSP.__init__(self,sigma1=scale*2.0,sigma2=scale*3.0,sigma3=scale*5.0,name=name)\n",
    "\n",
    "        \n",
    "# As an example\n",
    "epsilon_budget = 2.0\n",
    "delta_budget = 1e-6\n",
    "\n",
    "mech_ssp = calibrate(SSP_scale,epsilon_budget,delta_budget,[0,100])\n",
    "mech_adassp = calibrate(AdaSSP_scale,epsilon_budget,delta_budget,[0,100])\n",
    "\n",
    "print('SSP with',mech_ssp.params,' satisfies ',(mech_ssp.approxDP(delta),delta),'-DP')\n",
    "\n",
    "print('AdaSSP with',mech_adassp.params,' satisfies ',(mech_adassp.approxDP(delta),delta),'-DP')"
   ]
  },
  {
   "cell_type": "markdown",
   "metadata": {},
   "source": [
    "\n",
    "## 3. Finally let's implement these algorithms and generate some experimental results.\n",
    "\n",
    "We will start by loading a dataset:  California housing dataset. \n"
   ]
  },
  {
   "cell_type": "code",
   "execution_count": 3,
   "metadata": {},
   "outputs": [
    {
     "name": "stdout",
     "output_type": "stream",
     "text": [
      "This is a regression dataset.\n",
      "Features are:  ['MedInc', 'HouseAge', 'AveRooms', 'AveBedrms', 'Population', 'AveOccup', 'Latitude', 'Longitude']\n",
      "The label is:  ['MedHouseVal']\n"
     ]
    }
   ],
   "source": [
    "import sklearn.datasets\n",
    "import numpy as np\n",
    "\n",
    "dataset = sklearn.datasets.fetch_california_housing()\n",
    "print('This is a regression dataset.')\n",
    "print('Features are: ', dataset.feature_names)\n",
    "print('The label is: ', dataset.target_names)"
   ]
  },
  {
   "cell_type": "code",
   "execution_count": 4,
   "metadata": {},
   "outputs": [],
   "source": [
    "# Let's extract the relevant information from the sklearn dataset object\n",
    "X = dataset.data\n",
    "y = dataset.target\n",
    "dim = X.shape[1]\n",
    "n = X.shape[0]"
   ]
  },
  {
   "cell_type": "markdown",
   "metadata": {},
   "source": [
    "### Very importantly, we need to preprocess the data by normalizing the feature vectors and clipping the labels.\n",
    "These are critical to ensure that the global sensitivity of the sufficient statistics are bounded.  \n",
    "\n",
    "**Important Note:** Not all data-preprocessing works out of the box for differentially private linear regression. For instance, may pre-processing approaches are actually data-set dependent, i.e.,  z-scoring. To do those appropriately, one need to privately release those statistics used to performan z-scoring, otherwise it invalidates the global sensitvity calcluations."
   ]
  },
  {
   "cell_type": "code",
   "execution_count": 5,
   "metadata": {},
   "outputs": [],
   "source": [
    "# First normalize the individual data points\n",
    "\n",
    "# This is very important for DP linear regression. \n",
    "# Also please make sure that the preprocessing does not use dataset for training, \n",
    "# e.g., the standard z-score cannot be used.\n",
    "\n",
    "from sklearn import preprocessing\n",
    "\n",
    "# Rescaling the feature vectors by their natural ranges (independent to the data)\n",
    "X = X @ np.diag(1./np.array([10,50,100,40,40000,1000,50,100]))\n",
    "# This is to ensure that each feature is of the similar scale\n",
    "\n",
    "# the following bounds are chosen independent to the data\n",
    "x_bound = 1\n",
    "y_bound = 5\n",
    "\n",
    "# Preprocess the feature vector such that the norm is fixed at 5\n",
    "X = x_bound*preprocessing.normalize(X, norm='l2')\n",
    "# Second, clip label. We also need the labels to be bounded between [0,y_bound]\n",
    "y = np.clip(y,0,y_bound)\n"
   ]
  },
  {
   "cell_type": "code",
   "execution_count": 6,
   "metadata": {},
   "outputs": [
    {
     "name": "stdout",
     "output_type": "stream",
     "text": [
      "The non-private baseline has an MSE of  0.6053084771039058\n"
     ]
    }
   ],
   "source": [
    "# Now let's construct the sufficient statistics and get the non-private baselines.\n",
    "XTX = X.T@X\n",
    "XTy = X.T@y\n",
    "\n",
    "# Non-private linear regression\n",
    "theta_nonprivate = np.linalg.solve(XTX,XTy)\n",
    "\n",
    "# Let's define the performance metric ---  MSE (mean square error) on the training data\n",
    "\n",
    "def MSE(theta):\n",
    "    return np.linalg.norm(y - X@theta)**2 / n\n",
    " \n",
    "MSE_nonprivate = MSE(theta_nonprivate)\n",
    "\n",
    "print('The non-private baseline has an MSE of ', MSE_nonprivate)\n"
   ]
  },
  {
   "cell_type": "markdown",
   "metadata": {},
   "source": [
    "### Next we will implement the actual algorithms for SSP and AdaSSP "
   ]
  },
  {
   "cell_type": "code",
   "execution_count": 7,
   "metadata": {},
   "outputs": [
    {
     "name": "stdout",
     "output_type": "stream",
     "text": [
      "[0.6053084771039058, 0.6472041840073287, 0.6521752738573323]\n"
     ]
    }
   ],
   "source": [
    "# SSP implementation\n",
    "\n",
    "def run_SSP(sigma1,sigma2):\n",
    "    # The dependence on XTX, XTy and x_bound,y_bound are abbreviated for simplicity.\n",
    "    # They are global variables now.\n",
    "    \n",
    "    # This function takes noise multipliers return the fitted coefficient vector\n",
    "    # the actual noise added need to be proportional to the global L2 sensitivity\n",
    "    \n",
    "    # GM1\n",
    "    Z = x_bound**2 * sigma1 * np.random.normal(size=XTX.shape)\n",
    "    Z_analyzegauss = np.triu(Z) + np.triu(Z,k=1).T \n",
    "    hatXTX = XTX +Z_analyzegauss\n",
    "    \n",
    "    # GM2\n",
    "    hatXTy = XTy + x_bound*y_bound * sigma2 * np.random.normal(size=XTy.shape)\n",
    "    \n",
    "    theta_ssp = np.linalg.solve(hatXTX + np.sqrt(dim),hatXTy)\n",
    "    return theta_ssp\n",
    "\n",
    "# AdaSSP implementation\n",
    "\n",
    "def run_AdaSSP(sigma1,sigma2,sigma3):\n",
    "    \n",
    "    # GM1\n",
    "    Z = x_bound**2 * sigma1 * np.random.normal(size=XTX.shape)\n",
    "    Z_analyzegauss = np.triu(Z) + np.triu(Z,k=1).T \n",
    "    hatXTX = XTX + Z_analyzegauss\n",
    "    \n",
    "    # GM2\n",
    "    hatXTy = XTy + x_bound*y_bound * sigma2 * np.random.normal(size=XTy.shape)\n",
    "    \n",
    "    # GM3\n",
    "    u,s,vT = np.linalg.svd(XTX)\n",
    "    \n",
    "    lambdamin = s[-1] + x_bound**2 * sigma3 * np.random.normal(size=1) \n",
    "    \n",
    "    # These 1.96 are for getting the 0.95 asymptotic confidence interval.\n",
    "    # They are reseasonable choices for the problem of interest, \n",
    "    # but should increase if higher confidence bounds are needed.\n",
    "    \n",
    "    lambdamin_lowerbound = max(0,lambdamin - x_bound**2 * sigma3*1.96)\n",
    "    lamb = max(0,np.sqrt(dim) * sigma1 * x_bound**2 * 1.96-lambdamin_lowerbound)\n",
    "    \n",
    "    theta_adassp = np.linalg.solve(hatXTX  + lamb*np.eye(dim),hatXTy)\n",
    "    \n",
    "    return theta_adassp\n",
    "\n",
    "\n",
    "# Let's try them out with the default parameter sigma1,sigma2,sigma3 above\n",
    "# linear regression\n",
    "theta_ssp = run_SSP(sigma1,sigma2)\n",
    "\n",
    "theta_adassp = run_AdaSSP(sigma1,sigma2,sigma3)\n",
    "\n",
    "print([MSE(theta_nonprivate), MSE(theta_ssp), MSE(theta_adassp)])"
   ]
  },
  {
   "cell_type": "code",
   "execution_count": 8,
   "metadata": {},
   "outputs": [],
   "source": [
    "num = 50\n",
    "rep = 20\n",
    "\n",
    "eps_budget_list = np.linspace(0.1,2,num)\n",
    "\n",
    "# Place holder to save the result.\n",
    "MSE_list = np.zeros(shape=(num,rep,2))\n",
    "\n",
    "\n",
    "for i,eps in enumerate(eps_budget_list):\n",
    "    \n",
    "    mech_ssp = calibrate(SSP_scale,eps,delta_budget,[0,100])\n",
    "    mech_adassp = calibrate(AdaSSP_scale,eps,delta_budget,[0,100])\n",
    "    \n",
    "    for j in range(rep):\n",
    "        MSE_list[i,j,0] = MSE(run_SSP(mech_ssp.params['sigma1'],mech_ssp.params['sigma2']))\n",
    "        MSE_list[i,j,1] = MSE(run_AdaSSP(mech_adassp.params['sigma1'],\n",
    "                                         mech_adassp.params['sigma2'],\n",
    "                                         mech_adassp.params['sigma3']))\n",
    "\n",
    "\n",
    "avg_MSE_list = np.squeeze(np.mean(MSE_list,axis=1))\n",
    "\n",
    "med_MSE_list = np.squeeze(np.median(MSE_list,axis=1))\n",
    "\n",
    "# Let's also add a trivial baseline for just outputting the mean\n",
    "MSE_trivial = 1/n*np.linalg.norm(y-np.mean(y))**2"
   ]
  },
  {
   "cell_type": "markdown",
   "metadata": {},
   "source": [
    "## Now let's plot it!"
   ]
  },
  {
   "cell_type": "code",
   "execution_count": 9,
   "metadata": {
    "scrolled": true
   },
   "outputs": [
    {
     "data": {
      "image/png": "[encoded data removed]",
      "text/plain": [
       "<Figure size 576x360 with 1 Axes>"
      ]
     },
     "metadata": {
      "needs_background": "light"
     },
     "output_type": "display_data"
    }
   ],
   "source": [
    "# Let's also plot the median\n",
    "import matplotlib.pyplot as plt\n",
    "#%matplotlib inline \n",
    "plt.figure(figsize=(8, 5))\n",
    "plt.plot(eps_budget_list,med_MSE_list[:,0],'o-')\n",
    "plt.plot(eps_budget_list,med_MSE_list[:,1],'s-')\n",
    "plt.plot(eps_budget_list,MSE_nonprivate*np.ones(shape=(num,1)),'k--')\n",
    "plt.plot(eps_budget_list,MSE_trivial*np.ones(shape=(num,1)),'r--')\n",
    "plt.ylim([0.6,1.4])\n",
    "\n",
    "plt.legend(['SSP','AdaSSP','Nonprivate','trivial'])\n",
    "plt.xlabel('epsilon')\n",
    "plt.ylabel('median-MSE')\n",
    "plt.show()"
   ]
  },
  {
   "cell_type": "markdown",
   "metadata": {},
   "source": [
    "As we can see the privacy utility tradeoff from the figure and that even with very strong privacy parameter ($\\epsilon<1$) we can get high utility in the prediction of the privately fitted linear model."
   ]
  },
  {
   "cell_type": "code",
   "execution_count": null,
   "metadata": {},
   "outputs": [],
   "source": []
  }
 ],
 "metadata": {
  "kernelspec": {
   "display_name": "Python 3",
   "language": "python",
   "name": "python3"
  },
  "language_info": {
   "codemirror_mode": {
    "name": "ipython",
    "version": 3
   },
   "file_extension": ".py",
   "mimetype": "text/x-python",
   "name": "python",
   "nbconvert_exporter": "python",
   "pygments_lexer": "ipython3",
   "version": "3.8.5"
  }
 },
 "nbformat": 4,
 "nbformat_minor": 4
}
